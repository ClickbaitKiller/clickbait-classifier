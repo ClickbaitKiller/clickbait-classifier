{
 "cells": [
  {
   "cell_type": "code",
   "execution_count": 1,
   "metadata": {
    "collapsed": true
   },
   "outputs": [],
   "source": [
    "%matplotlib inline\n",
    "import pickle\n",
    "import pandas as pd\n",
    "import numpy as np\n",
    "import matplotlib.pyplot as plt\n",
    "import seaborn as sns\n",
    "import re\n",
    "\n",
    "import nltk\n",
    "import gensim\n",
    "\n",
    "\n",
    "def print_full(x):\n",
    "    pd.set_option('display.max_rows', len(x))\n",
    "    print(x)\n",
    "    pd.reset_option('display.max_rows')\n",
    "    \n"
   ]
  },
  {
   "cell_type": "code",
   "execution_count": 2,
   "metadata": {
    "collapsed": true
   },
   "outputs": [],
   "source": [
    "df_pos = pd.read_table('clickbait_data', header=None, names=['X'])\n",
    "df_pos['Y'] = True\n",
    "df_neg = pd.read_table('non_clickbait_data', header=None, names=['X'])\n",
    "df_neg['Y'] = False\n",
    "\n",
    "df = pd.concat([df_pos, df_neg], ignore_index = True)\n",
    "df = df.reindex(np.random.permutation(df.index))"
   ]
  },
  {
   "cell_type": "code",
   "execution_count": 45,
   "metadata": {},
   "outputs": [],
   "source": [
    "regex = re.compile(r'\\d')\n",
    "# df_neg.apply(lambda row: len(regex.search(row['X'])) > 0, axis=0)\n",
    "\n",
    "def f(row):\n",
    "    return row[1] and regex.search(row[0]) != None\n",
    "\n",
    "df['list'] = df.apply(f, axis=1)"
   ]
  },
  {
   "cell_type": "code",
   "execution_count": null,
   "metadata": {},
   "outputs": [],
   "source": []
  },
  {
   "cell_type": "code",
   "execution_count": 47,
   "metadata": {},
   "outputs": [
    {
     "name": "stdout",
     "output_type": "stream",
     "text": [
      "{'roc': 0.99005715345984735, 'precision': 0.96302199553713741, 'recall': 0.94258970358814353, 'f1': 0.95269631031220436}\n",
      "{'roc': 0.99236136719110113, 'precision': 0.96817313812858052, 'recall': 0.94707347447073476, 'f1': 0.95750708215297453}\n",
      "{'roc': 0.98973359529208671, 'precision': 0.95778701630956187, 'recall': 0.94390167034352346, 'f1': 0.95079365079365086}\n",
      "{'roc': 0.99169961250400651, 'precision': 0.97045305318450426, 'recall': 0.94050270442252626, 'f1': 0.95524317337211184}\n",
      "{'roc': 0.9900270564314273, 'precision': 0.96624605678233444, 'recall': 0.93784445805266381, 'f1': 0.95183343691734001}\n"
     ]
    }
   ],
   "source": [
    "from sklearn.model_selection import KFold\n",
    "\n",
    "\n",
    "from sklearn.linear_model import LogisticRegression\n",
    "from sklearn.ensemble import GradientBoostingClassifier\n",
    "\n",
    "\n",
    "from sklearn.metrics import f1_score\n",
    "from sklearn.metrics import roc_auc_score\n",
    "from sklearn.metrics import precision_score\n",
    "from sklearn.metrics import recall_score\n",
    "\n",
    "\n",
    "from sklearn.feature_extraction.text import TfidfVectorizer\n",
    "\n",
    "\n",
    "\n",
    "def gen_scores(y_true, y_pred, y_pred_proba):\n",
    "    roc = roc_auc_score(y_true, y_pred_proba)\n",
    "    precision = precision_score(y_true, y_pred)\n",
    "    recall = recall_score(y_true, y_pred)\n",
    "\n",
    "    f1 = f1_score(y_true, y_pred)\n",
    "    \n",
    "    return { 'roc': roc, 'precision': precision, 'recall': recall, 'f1': f1 }\n",
    "   \n",
    "def process_features(sentence):\n",
    "#     return re.sub(r'\\d+', '0', sentence)\n",
    "    return sentence\n",
    "#     ret = \"\"\n",
    "    \n",
    "#     for w in sentence:\n",
    "#         if w.isdigit() and int(w) < 110:\n",
    "#             ret += '0'\n",
    "#         else:\n",
    "#             ret += w\n",
    "            \n",
    "#     return ret\n",
    "    \n",
    "size = 30\n",
    "kf = KFold(n_splits=5, shuffle=True)\n",
    "\n",
    "for train, test in kf.split(df):\n",
    "    X_train, X_test, y_train, y_test = df['X'][train], df['X'][test], df['Y'][train], df['Y'][test]\n",
    "    \n",
    "    tfv = TfidfVectorizer(min_df=3, max_features=None, strip_accents='unicode', analyzer='word',\n",
    "                     token_pattern=r'\\w{1,}', ngram_range=(1, 3),\n",
    "                     use_idf=1, smooth_idf=1,\n",
    "                     sublinear_tf=1, stop_words='english')\n",
    "    \n",
    "    # gen features\n",
    "    X_train = [r for r in X_train.apply(lambda sentence: process_features(sentence))]\n",
    "    X_train = tfv.fit_transform(X_train)\n",
    "    y_train = list(y_train)\n",
    "    classifier = LogisticRegression()\n",
    "#     classifier = GradientBoostingClassifier()\n",
    "    classifier.fit(X_train, y_train)\n",
    "    \n",
    "    X_test = [r for r in X_test.apply(lambda sentence: process_features(sentence))]\n",
    "    X_test = tfv.transform(X_test).toarray()\n",
    "    y_test = list(y_test)\n",
    "    y_pred = classifier.predict(X_test)\n",
    "    y_pred_proba = classifier.predict_proba(X_test)[:, 1]\n",
    "    \n",
    "    \n",
    "    print(gen_scores(y_test, y_pred, y_pred_proba))"
   ]
  },
  {
   "cell_type": "code",
   "execution_count": 50,
   "metadata": {},
   "outputs": [
    {
     "name": "stdout",
     "output_type": "stream",
     "text": [
      "{'roc': 0.99207176299215671, 'precision': 0.97723704866562011, 'recall': 0.87985865724381629, 'f1': 0.92599479360357018}\n",
      "{'roc': 0.99070247347174289, 'precision': 0.97450199203187249, 'recall': 0.86614730878186974, 'f1': 0.91713535808023994}\n",
      "{'roc': 0.99146567211609404, 'precision': 0.97094801223241589, 'recall': 0.87525844245348039, 'f1': 0.9206234142805364}\n",
      "{'roc': 0.99206120010645471, 'precision': 0.97651821862348176, 'recall': 0.88093498904309719, 'f1': 0.92626728110599066}\n",
      "{'roc': 0.99145297687573741, 'precision': 0.97378872120730742, 'recall': 0.86950354609929081, 'f1': 0.9186961408767329}\n"
     ]
    }
   ],
   "source": [
    "from sklearn.model_selection import KFold\n",
    "\n",
    "\n",
    "from sklearn.linear_model import LogisticRegression\n",
    "from sklearn.ensemble import GradientBoostingClassifier\n",
    "\n",
    "\n",
    "from sklearn.metrics import f1_score\n",
    "from sklearn.metrics import roc_auc_score\n",
    "from sklearn.metrics import precision_score\n",
    "from sklearn.metrics import recall_score\n",
    "\n",
    "\n",
    "from sklearn.feature_extraction.text import TfidfVectorizer\n",
    "\n",
    "\n",
    "\n",
    "def gen_scores(y_true, y_pred, y_pred_proba):\n",
    "    roc = roc_auc_score(y_true, y_pred_proba)\n",
    "    precision = precision_score(y_true, y_pred)\n",
    "    recall = recall_score(y_true, y_pred)\n",
    "\n",
    "    f1 = f1_score(y_true, y_pred)\n",
    "    \n",
    "    return { 'roc': roc, 'precision': precision, 'recall': recall, 'f1': f1 }\n",
    "   \n",
    "def process_features(sentence):\n",
    "#     return re.sub(r'\\d+', '0', sentence)\n",
    "    return sentence\n",
    "#     ret = \"\"\n",
    "    \n",
    "#     for w in sentence:\n",
    "#         if w.isdigit() and int(w) < 110:\n",
    "#             ret += '0'\n",
    "#         else:\n",
    "#             ret += w\n",
    "            \n",
    "#     return ret\n",
    "    \n",
    "size = 30\n",
    "kf = KFold(n_splits=5, shuffle=True)\n",
    "\n",
    "for train, test in kf.split(df):\n",
    "    X_train, X_test, y_train, y_test = df['X'][train], df['X'][test], df['list'][train], df['list'][test]\n",
    "    \n",
    "    tfv = TfidfVectorizer(min_df=3, max_features=None, strip_accents='unicode', analyzer='word',\n",
    "                     token_pattern=r'\\w{1,}', ngram_range=(1, 3),\n",
    "                     use_idf=1, smooth_idf=1,\n",
    "                     sublinear_tf=1, stop_words='english')\n",
    "    \n",
    "    # gen features\n",
    "    X_train = [r for r in X_train.apply(lambda sentence: process_features(sentence))]\n",
    "    X_train = tfv.fit_transform(X_train)\n",
    "    y_train = list(y_train)\n",
    "    classifier = LogisticRegression()\n",
    "#     classifier = GradientBoostingClassifier()\n",
    "    classifier.fit(X_train, y_train)\n",
    "    \n",
    "    X_test = [r for r in X_test.apply(lambda sentence: process_features(sentence))]\n",
    "    X_test = tfv.transform(X_test).toarray()\n",
    "    y_test = list(y_test)\n",
    "    y_pred = classifier.predict(X_test)\n",
    "    y_pred_proba = classifier.predict_proba(X_test)[:, 1]\n",
    "    \n",
    "    \n",
    "    print(gen_scores(y_test, y_pred, y_pred_proba))"
   ]
  },
  {
   "cell_type": "code",
   "execution_count": 359,
   "metadata": {
    "scrolled": true
   },
   "outputs": [
    {
     "ename": "NameError",
     "evalue": "name 'LabeledSentence' is not defined",
     "output_type": "error",
     "traceback": [
      "\u001b[0;31m---------------------------------------------------------------------------\u001b[0m",
      "\u001b[0;31mNameError\u001b[0m                                 Traceback (most recent call last)",
      "\u001b[0;32m<ipython-input-359-518b4347b3c6>\u001b[0m in \u001b[0;36m<module>\u001b[0;34m()\u001b[0m\n\u001b[1;32m     56\u001b[0m     \u001b[0mX_train\u001b[0m\u001b[0;34m,\u001b[0m \u001b[0mX_test\u001b[0m\u001b[0;34m,\u001b[0m \u001b[0my_train\u001b[0m\u001b[0;34m,\u001b[0m \u001b[0my_test\u001b[0m \u001b[0;34m=\u001b[0m \u001b[0mdf\u001b[0m\u001b[0;34m[\u001b[0m\u001b[0;34m'X'\u001b[0m\u001b[0;34m]\u001b[0m\u001b[0;34m[\u001b[0m\u001b[0mtrain\u001b[0m\u001b[0;34m]\u001b[0m\u001b[0;34m,\u001b[0m \u001b[0mdf\u001b[0m\u001b[0;34m[\u001b[0m\u001b[0;34m'X'\u001b[0m\u001b[0;34m]\u001b[0m\u001b[0;34m[\u001b[0m\u001b[0mtest\u001b[0m\u001b[0;34m]\u001b[0m\u001b[0;34m,\u001b[0m \u001b[0mdf\u001b[0m\u001b[0;34m[\u001b[0m\u001b[0;34m'Y'\u001b[0m\u001b[0;34m]\u001b[0m\u001b[0;34m[\u001b[0m\u001b[0mtrain\u001b[0m\u001b[0;34m]\u001b[0m\u001b[0;34m,\u001b[0m \u001b[0mdf\u001b[0m\u001b[0;34m[\u001b[0m\u001b[0;34m'Y'\u001b[0m\u001b[0;34m]\u001b[0m\u001b[0;34m[\u001b[0m\u001b[0mtest\u001b[0m\u001b[0;34m]\u001b[0m\u001b[0;34m\u001b[0m\u001b[0m\n\u001b[1;32m     57\u001b[0m \u001b[0;34m\u001b[0m\u001b[0m\n\u001b[0;32m---> 58\u001b[0;31m     \u001b[0mX_train\u001b[0m \u001b[0;34m=\u001b[0m \u001b[0;34m[\u001b[0m\u001b[0mLabeledSentence\u001b[0m\u001b[0;34m(\u001b[0m\u001b[0mwords\u001b[0m\u001b[0;34m=\u001b[0m\u001b[0mr\u001b[0m\u001b[0;34m.\u001b[0m\u001b[0msplit\u001b[0m\u001b[0;34m(\u001b[0m\u001b[0;34m' '\u001b[0m\u001b[0;34m)\u001b[0m\u001b[0;34m,\u001b[0m \u001b[0mlabels\u001b[0m \u001b[0;34m=\u001b[0m \u001b[0;34m[\u001b[0m\u001b[0mget_index\u001b[0m\u001b[0;34m(\u001b[0m\u001b[0;34m)\u001b[0m\u001b[0;34m]\u001b[0m\u001b[0;34m)\u001b[0m \u001b[0;32mfor\u001b[0m \u001b[0mr\u001b[0m \u001b[0;32min\u001b[0m \u001b[0mX_train\u001b[0m\u001b[0;34m]\u001b[0m\u001b[0;34m\u001b[0m\u001b[0m\n\u001b[0m\u001b[1;32m     59\u001b[0m     \u001b[0mmodel\u001b[0m \u001b[0;34m=\u001b[0m \u001b[0mgensim\u001b[0m\u001b[0;34m.\u001b[0m\u001b[0mmodels\u001b[0m\u001b[0;34m.\u001b[0m\u001b[0mDoc2Vec\u001b[0m\u001b[0;34m(\u001b[0m\u001b[0mX_train\u001b[0m\u001b[0;34m,\u001b[0m \u001b[0msize\u001b[0m\u001b[0;34m=\u001b[0m\u001b[0msize\u001b[0m\u001b[0;34m)\u001b[0m\u001b[0;34m\u001b[0m\u001b[0m\n\u001b[1;32m     60\u001b[0m     \u001b[0mw2v\u001b[0m \u001b[0;34m=\u001b[0m \u001b[0mdict\u001b[0m\u001b[0;34m(\u001b[0m\u001b[0mzip\u001b[0m\u001b[0;34m(\u001b[0m\u001b[0mmodel\u001b[0m\u001b[0;34m.\u001b[0m\u001b[0mwv\u001b[0m\u001b[0;34m.\u001b[0m\u001b[0mindex2word\u001b[0m\u001b[0;34m,\u001b[0m \u001b[0mmodel\u001b[0m\u001b[0;34m.\u001b[0m\u001b[0mwv\u001b[0m\u001b[0;34m.\u001b[0m\u001b[0msyn0\u001b[0m\u001b[0;34m)\u001b[0m\u001b[0;34m)\u001b[0m\u001b[0;34m\u001b[0m\u001b[0m\n",
      "\u001b[0;32m<ipython-input-359-518b4347b3c6>\u001b[0m in \u001b[0;36m<listcomp>\u001b[0;34m(.0)\u001b[0m\n\u001b[1;32m     56\u001b[0m     \u001b[0mX_train\u001b[0m\u001b[0;34m,\u001b[0m \u001b[0mX_test\u001b[0m\u001b[0;34m,\u001b[0m \u001b[0my_train\u001b[0m\u001b[0;34m,\u001b[0m \u001b[0my_test\u001b[0m \u001b[0;34m=\u001b[0m \u001b[0mdf\u001b[0m\u001b[0;34m[\u001b[0m\u001b[0;34m'X'\u001b[0m\u001b[0;34m]\u001b[0m\u001b[0;34m[\u001b[0m\u001b[0mtrain\u001b[0m\u001b[0;34m]\u001b[0m\u001b[0;34m,\u001b[0m \u001b[0mdf\u001b[0m\u001b[0;34m[\u001b[0m\u001b[0;34m'X'\u001b[0m\u001b[0;34m]\u001b[0m\u001b[0;34m[\u001b[0m\u001b[0mtest\u001b[0m\u001b[0;34m]\u001b[0m\u001b[0;34m,\u001b[0m \u001b[0mdf\u001b[0m\u001b[0;34m[\u001b[0m\u001b[0;34m'Y'\u001b[0m\u001b[0;34m]\u001b[0m\u001b[0;34m[\u001b[0m\u001b[0mtrain\u001b[0m\u001b[0;34m]\u001b[0m\u001b[0;34m,\u001b[0m \u001b[0mdf\u001b[0m\u001b[0;34m[\u001b[0m\u001b[0;34m'Y'\u001b[0m\u001b[0;34m]\u001b[0m\u001b[0;34m[\u001b[0m\u001b[0mtest\u001b[0m\u001b[0;34m]\u001b[0m\u001b[0;34m\u001b[0m\u001b[0m\n\u001b[1;32m     57\u001b[0m \u001b[0;34m\u001b[0m\u001b[0m\n\u001b[0;32m---> 58\u001b[0;31m     \u001b[0mX_train\u001b[0m \u001b[0;34m=\u001b[0m \u001b[0;34m[\u001b[0m\u001b[0mLabeledSentence\u001b[0m\u001b[0;34m(\u001b[0m\u001b[0mwords\u001b[0m\u001b[0;34m=\u001b[0m\u001b[0mr\u001b[0m\u001b[0;34m.\u001b[0m\u001b[0msplit\u001b[0m\u001b[0;34m(\u001b[0m\u001b[0;34m' '\u001b[0m\u001b[0;34m)\u001b[0m\u001b[0;34m,\u001b[0m \u001b[0mlabels\u001b[0m \u001b[0;34m=\u001b[0m \u001b[0;34m[\u001b[0m\u001b[0mget_index\u001b[0m\u001b[0;34m(\u001b[0m\u001b[0;34m)\u001b[0m\u001b[0;34m]\u001b[0m\u001b[0;34m)\u001b[0m \u001b[0;32mfor\u001b[0m \u001b[0mr\u001b[0m \u001b[0;32min\u001b[0m \u001b[0mX_train\u001b[0m\u001b[0;34m]\u001b[0m\u001b[0;34m\u001b[0m\u001b[0m\n\u001b[0m\u001b[1;32m     59\u001b[0m     \u001b[0mmodel\u001b[0m \u001b[0;34m=\u001b[0m \u001b[0mgensim\u001b[0m\u001b[0;34m.\u001b[0m\u001b[0mmodels\u001b[0m\u001b[0;34m.\u001b[0m\u001b[0mDoc2Vec\u001b[0m\u001b[0;34m(\u001b[0m\u001b[0mX_train\u001b[0m\u001b[0;34m,\u001b[0m \u001b[0msize\u001b[0m\u001b[0;34m=\u001b[0m\u001b[0msize\u001b[0m\u001b[0;34m)\u001b[0m\u001b[0;34m\u001b[0m\u001b[0m\n\u001b[1;32m     60\u001b[0m     \u001b[0mw2v\u001b[0m \u001b[0;34m=\u001b[0m \u001b[0mdict\u001b[0m\u001b[0;34m(\u001b[0m\u001b[0mzip\u001b[0m\u001b[0;34m(\u001b[0m\u001b[0mmodel\u001b[0m\u001b[0;34m.\u001b[0m\u001b[0mwv\u001b[0m\u001b[0;34m.\u001b[0m\u001b[0mindex2word\u001b[0m\u001b[0;34m,\u001b[0m \u001b[0mmodel\u001b[0m\u001b[0;34m.\u001b[0m\u001b[0mwv\u001b[0m\u001b[0;34m.\u001b[0m\u001b[0msyn0\u001b[0m\u001b[0;34m)\u001b[0m\u001b[0;34m)\u001b[0m\u001b[0;34m\u001b[0m\u001b[0m\n",
      "\u001b[0;31mNameError\u001b[0m: name 'LabeledSentence' is not defined"
     ]
    }
   ],
   "source": [
    "from sklearn.model_selection import KFold\n",
    "\n",
    "\n",
    "from sklearn.linear_model import LogisticRegression\n",
    "from sklearn.ensemble import GradientBoostingClassifier\n",
    "\n",
    "\n",
    "from sklearn.metrics import f1_score\n",
    "from sklearn.metrics import roc_auc_score\n",
    "from sklearn.metrics import precision_score\n",
    "from sklearn.metrics import recall_score\n",
    "\n",
    "\n",
    "from sklearn.feature_extraction.text import TfidfVectorizer\n",
    "\n",
    "def gen_sentence_features(w2v, sentence):\n",
    "    features = np.array([0.0]*size)\n",
    "    for w in sentence:\n",
    "        if w in w2v:\n",
    "             features += w2v[w]\n",
    "    \n",
    "    return features/len(sentence.split(' '))\n",
    "\n",
    "\n",
    "def gen_scores(y_true, y_pred, y_pred_proba):\n",
    "    roc = roc_auc_score(y_true, y_pred_proba)\n",
    "    precision = precision_score(y_true, y_pred)\n",
    "    recall = recall_score(y_true, y_pred)\n",
    "\n",
    "    f1 = f1_score(y_true, y_pred)\n",
    "    \n",
    "    return { 'roc': roc, 'precision': precision, 'recall': recall, 'f1': f1 }\n",
    "   \n",
    "def process_features(sentence):\n",
    "#     return re.sub(r'\\d+', '0', sentence)\n",
    "    return sentence\n",
    "#     ret = \"\"\n",
    "    \n",
    "#     for w in sentence:\n",
    "#         if w.isdigit() and int(w) < 110:\n",
    "#             ret += '0'\n",
    "#         else:\n",
    "#             ret += w\n",
    "            \n",
    "#     return ret\n",
    "    \n",
    "size = 30\n",
    "kf = KFold(n_splits=2, shuffle=True)\n",
    "\n",
    "index = 0\n",
    "def get_index():\n",
    "    index += 1\n",
    "    return index - 1\n",
    "\n",
    "for train, test in kf.split(df):\n",
    "    X_train, X_test, y_train, y_test = df['X'][train], df['X'][test], df['Y'][train], df['Y'][test]\n",
    "    \n",
    "    X_train = [LabeledSentence(words=r.split(' '), labels = [get_index()]) for r in X_train]\n",
    "    model = gensim.models.Doc2Vec(X_train, size=size)\n",
    "    w2v = dict(zip(model.wv.index2word, model.wv.syn0))\n",
    "    \n",
    "    # gen features\n",
    "    X_train = [r for r in X_train.apply(lambda sentence: gen_sentence_features(w2v, process_features(sentence)))]\n",
    "    y_train = list(y_train)\n",
    "    classifier = LogisticRegression()\n",
    "#     classifier = GradientBoostingClassifier()\n",
    "    classifier.fit(X_train, y_train)\n",
    "    \n",
    "    X_test = [r for r in X_test.apply(lambda sentence: gen_sentence_features(w2v, process_features(sentence)))]\n",
    "    y_test = list(y_test)\n",
    "    y_pred = classifier.predict(X_test)\n",
    "    y_pred_proba = classifier.predict_proba(X_test)[:, 1]\n",
    "    \n",
    "    \n",
    "    print(gen_scores(y_test, y_pred, y_pred_proba))\n",
    "    "
   ]
  },
  {
   "cell_type": "code",
   "execution_count": 265,
   "metadata": {},
   "outputs": [
    {
     "data": {
      "text/plain": [
       "'0 ab'"
      ]
     },
     "execution_count": 265,
     "metadata": {},
     "output_type": "execute_result"
    }
   ],
   "source": [
    "{'roc': 0.81284205049237268, 'precision': 0.7266265060240964, 'recall': 0.75718769617074699, 'f1': 0.7415923762680604}\n",
    "{'roc': 0.81494818875165942, 'precision': 0.73140742509251522, 'recall': 0.76263380632312672, 'f1': 0.7466942904149656}"
   ]
  },
  {
   "cell_type": "code",
   "execution_count": 194,
   "metadata": {},
   "outputs": [
    {
     "data": {
      "text/plain": [
       "[array([ 0.62771392, -0.37692767, -0.05795803, -0.51460409,  0.56070054]),\n",
       " array([ 0.5270079 , -0.18355932, -0.14096526, -0.44264327,  0.32411522])]"
      ]
     },
     "execution_count": 194,
     "metadata": {},
     "output_type": "execute_result"
    }
   ],
   "source": [
    "X = [r for r in X_train[0:2]]\n",
    "X"
   ]
  },
  {
   "cell_type": "code",
   "execution_count": 195,
   "metadata": {},
   "outputs": [
    {
     "data": {
      "text/plain": [
       "LinearRegression(copy_X=True, fit_intercept=True, n_jobs=1, normalize=False)"
      ]
     },
     "execution_count": 195,
     "metadata": {},
     "output_type": "execute_result"
    }
   ],
   "source": [
    "lr = LinearRegression()\n",
    "# X = np.array([np.array([1, 2]), np.array([3, 4])])\n",
    "y = [1, 2]\n",
    "X\n",
    "lr.fit(X, y)"
   ]
  },
  {
   "cell_type": "markdown",
   "metadata": {},
   "source": [
    "# Save Model"
   ]
  },
  {
   "cell_type": "code",
   "execution_count": 4,
   "metadata": {
    "collapsed": true
   },
   "outputs": [],
   "source": [
    "tfv = TfidfVectorizer(min_df=3, max_features=None, strip_accents='unicode', analyzer='word',\n",
    "                     token_pattern=r'\\w{1,}', ngram_range=(1, 3),\n",
    "                     use_idf=1, smooth_idf=1,\n",
    "                     sublinear_tf=1, stop_words='english')\n",
    "    \n",
    "# gen features\n",
    "X = [r for r in df['X'].apply(lambda sentence: process_features(sentence))]\n",
    "X = tfv.fit_transform(X)\n",
    "y_clickbait = list(df['Y'])\n",
    "y_listicle = list(df['list'])\n",
    "classifier_clickbait = LogisticRegression()\n",
    "classifier_listicle = LogisticRegression()\n",
    "\n",
    "#     classifier = GradientBoostingClassifier()\n",
    "classifier_clickbait.fit(X, y_clickbait)\n",
    "classifier_listicle.fit(X, y_listicle)\n",
    "\n",
    "with open('classifier.p', 'wb') as f:\n",
    "    pickle.dump((classifier_clickbait, classifier_listicle, tfv), f)\n",
    "\n",
    "# print(gen_scores(y_test, y_pred, y_pred_proba))"
   ]
  }
 ],
 "metadata": {
  "kernelspec": {
   "display_name": "Python 3",
   "language": "python",
   "name": "python3"
  },
  "language_info": {
   "codemirror_mode": {
    "name": "ipython",
    "version": 3
   },
   "file_extension": ".py",
   "mimetype": "text/x-python",
   "name": "python",
   "nbconvert_exporter": "python",
   "pygments_lexer": "ipython3",
   "version": "3.6.1"
  }
 },
 "nbformat": 4,
 "nbformat_minor": 2
}
